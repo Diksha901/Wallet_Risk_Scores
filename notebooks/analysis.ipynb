{
 "cells": [
  {
   "cell_type": "markdown",
   "id": "8ccb4aeb",
   "metadata": {},
   "source": [
    "# Importing the Dependencies "
   ]
  },
  {
   "cell_type": "code",
   "execution_count": 1,
   "id": "2ec1e253",
   "metadata": {},
   "outputs": [
    {
     "data": {
      "text/plain": [
       "True"
      ]
     },
     "execution_count": 1,
     "metadata": {},
     "output_type": "execute_result"
    }
   ],
   "source": [
    "import os\n",
    "import pandas as pd \n",
    "import matplotlib.pyplot as plt \n",
    "import seaborn as sns \n",
    "from dotenv import load_dotenv\n",
    "\n",
    "load_dotenv()"
   ]
  },
  {
   "cell_type": "markdown",
   "id": "06759ce9",
   "metadata": {},
   "source": [
    "# Loading the Data "
   ]
  },
  {
   "cell_type": "code",
   "execution_count": 2,
   "id": "e79ce706",
   "metadata": {},
   "outputs": [
    {
     "name": "stdout",
     "output_type": "stream",
     "text": [
      "Requirement already satisfied: fsspec in c:\\users\\hindu\\onedrive\\desktop\\risk_scoring\\venv\\lib\\site-packages (2025.7.0)\n",
      "Note: you may need to restart the kernel to use updated packages.\n"
     ]
    }
   ],
   "source": [
    "%pip install fsspec"
   ]
  },
  {
   "cell_type": "code",
   "execution_count": 3,
   "id": "e9003cd4",
   "metadata": {},
   "outputs": [
    {
     "name": "stdout",
     "output_type": "stream",
     "text": [
      "   total_tx            gas_spent     avg_value     max_value  activity_days  \\\n",
      "0       100  2377481427161696080  5.225464e+17  5.000000e+19            794   \n",
      "1         5    15559648000000000  4.860370e+15  1.860000e+16              0   \n",
      "2         4    15780978000000000  4.650000e+15  1.860000e+16              0   \n",
      "3        80  1725902402924921473  2.523044e+18  6.756315e+19           2067   \n",
      "4         5    14405516000000000  5.200938e+15  1.860000e+16             63   \n",
      "\n",
      "                                       wallet  risk_score  \n",
      "0  0x0039f22efb07a647557c7c5d17854cfd6d489ef3      996.78  \n",
      "1  0x06b51c6882b27cb05e712185531c1f74996dd988      750.00  \n",
      "2  0x0795732aacc448030ef374374eaae57d2965c16c      740.00  \n",
      "3  0x0aaa79f1a86bc8136cd0d1ca0d51964f4e3766f9      996.20  \n",
      "4  0x0fe383e5abc200055a7f391f94a5f5d1f844b9ae      946.87  \n",
      "************************************************************\n",
      "Shape of the df is (103, 7)\n",
      "************************************************************\n",
      "<class 'pandas.core.frame.DataFrame'>\n",
      "RangeIndex: 103 entries, 0 to 102\n",
      "Data columns (total 7 columns):\n",
      " #   Column         Non-Null Count  Dtype  \n",
      "---  ------         --------------  -----  \n",
      " 0   total_tx       103 non-null    int64  \n",
      " 1   gas_spent      103 non-null    int64  \n",
      " 2   avg_value      103 non-null    float64\n",
      " 3   max_value      103 non-null    float64\n",
      " 4   activity_days  103 non-null    int64  \n",
      " 5   wallet         103 non-null    object \n",
      " 6   risk_score     103 non-null    float64\n",
      "dtypes: float64(3), int64(3), object(1)\n",
      "memory usage: 5.8+ KB\n",
      "None\n"
     ]
    }
   ],
   "source": [
    "folder_path=os.getenv(\"FOLDER_PATH\")\n",
    "file_path = os.path.join(folder_path, \"features_scores.csv\")\n",
    "results_df=pd.read_csv(file_path)\n",
    "print(results_df.head())\n",
    "print(\"*\"*60)\n",
    "print(f\"Shape of the df is {results_df.shape}\")\n",
    "print(\"*\"*60)\n",
    "print(results_df.info())"
   ]
  },
  {
   "cell_type": "code",
   "execution_count": 4,
   "id": "8982ecff",
   "metadata": {},
   "outputs": [
    {
     "data": {
      "image/png": "[encoded data removed]",
      "text/plain": [
       "<Figure size 640x480 with 1 Axes>"
      ]
     },
     "metadata": {},
     "output_type": "display_data"
    },
    {
     "name": "stdout",
     "output_type": "stream",
     "text": [
      "This plot suggests that there are some outlier wallets\n"
     ]
    }
   ],
   "source": [
    "sns.boxplot(data=results_df,x='total_tx')\n",
    "plt.title(\"Box Plot of Total transactions\")\n",
    "plt.show()\n",
    "print(\"This plot suggests that there are some outlier wallets\")"
   ]
  },
  {
   "cell_type": "code",
   "execution_count": 5,
   "id": "fff9e497",
   "metadata": {},
   "outputs": [
    {
     "name": "stdout",
     "output_type": "stream",
     "text": [
      "         total_tx     gas_spent     avg_value     max_value  activity_days  \\\n",
      "count  103.000000  1.030000e+02  1.030000e+02  1.030000e+02     103.000000   \n",
      "mean    27.407767  2.412921e+17  3.276201e+17  1.010153e+19     610.165049   \n",
      "std     36.106986  4.958866e+17  1.649833e+18  5.413831e+19     801.509765   \n",
      "min      3.000000  2.744473e+15  0.000000e+00  0.000000e+00       0.000000   \n",
      "25%      5.000000  1.006421e+16  4.650000e+15  1.860000e+16       0.000000   \n",
      "50%      7.000000  1.792964e+16  6.277160e+15  1.860000e+16     147.000000   \n",
      "75%     32.000000  1.752437e+17  5.221340e+16  4.938344e+17    1307.000000   \n",
      "max    100.000000  2.423633e+18  1.567911e+19  5.000000e+20    2862.000000   \n",
      "\n",
      "       risk_score  \n",
      "count  103.000000  \n",
      "mean   895.511262  \n",
      "std    115.463728  \n",
      "min    462.500000  \n",
      "25%    750.000000  \n",
      "50%    949.620000  \n",
      "75%    988.455000  \n",
      "max    996.950000  \n"
     ]
    }
   ],
   "source": [
    "print(results_df.describe())"
   ]
  },
  {
   "cell_type": "code",
   "execution_count": 6,
   "id": "943c0dc3",
   "metadata": {},
   "outputs": [
    {
     "name": "stdout",
     "output_type": "stream",
     "text": [
      "0      996.78\n",
      "1      750.00\n",
      "2      740.00\n",
      "3      996.20\n",
      "4      946.87\n",
      "        ...  \n",
      "98     679.77\n",
      "99     915.00\n",
      "100    740.00\n",
      "101    978.45\n",
      "102    740.00\n",
      "Name: risk_score, Length: 103, dtype: float64 0      0.689750\n",
      "1      0.648141\n",
      "2      0.649715\n",
      "3      0.529668\n",
      "4      0.643613\n",
      "         ...   \n",
      "98     0.639837\n",
      "99     0.648906\n",
      "100    0.648730\n",
      "101    0.540887\n",
      "102    0.649625\n",
      "Name: risk_score_features, Length: 103, dtype: float64\n"
     ]
    }
   ],
   "source": [
    "from sklearn.preprocessing import MinMaxScaler\n",
    "scaler=MinMaxScaler()\n",
    "normalized_features = pd.DataFrame(\n",
    "    scaler.fit_transform(results_df[['total_tx', 'gas_spent', 'avg_value', 'max_value', 'activity_days']]),\n",
    "    columns=['total_tx', 'gas_spent', 'avg_value', 'max_value', 'activity_days']\n",
    ")\n",
    "\n",
    "# Weighted formula to simulate risk (you can tweak weights based on intuition)\n",
    "results_df['risk_score_features'] = (\n",
    "    0.3 * (1 - normalized_features['avg_value']) +  # low avg value → higher risk\n",
    "    0.25 * normalized_features['gas_spent'] +       # high gas spent → high activity (maybe lower risk)\n",
    "    0.2 * (1 - normalized_features['activity_days']) + # few active days → more risky\n",
    "    0.15 * (1 - normalized_features['total_tx']) +  # fewer transactions → more risky\n",
    "    0.1 * normalized_features['max_value']          # high max txn value → could imply some risky bet\n",
    ")\n",
    "\n",
    "\n",
    "print(results_df['risk_score'],results_df['risk_score_features'])\n"
   ]
  },
  {
   "cell_type": "code",
   "execution_count": 7,
   "id": "bab701dc",
   "metadata": {},
   "outputs": [
    {
     "name": "stdout",
     "output_type": "stream",
     "text": [
      "0    966.425098\n",
      "1    908.126140\n",
      "2    910.330490\n",
      "3    742.129754\n",
      "4    901.781549\n",
      "Name: risk_score_features, dtype: float64\n"
     ]
    }
   ],
   "source": [
    "results_df['risk_score_features'] = 1000 * (results_df['risk_score_features'] / results_df['risk_score_features'].max())\n",
    "print(results_df['risk_score_features'].head())\n"
   ]
  },
  {
   "cell_type": "code",
   "execution_count": 8,
   "id": "7a365d4e",
   "metadata": {},
   "outputs": [],
   "source": [
    "def simulate_risk_label(row):\n",
    "    if row['risk_score_features'] >= 800:\n",
    "        return \"high\"\n",
    "    elif (row['risk_score_features'] >= 300) and (row['risk_score_features'] <= 800):\n",
    "        return \"medium\"\n",
    "    else:\n",
    "        return \"low\"\n",
    "\n",
    "results_df[\"risk_score_label\"] = results_df.apply(simulate_risk_label, axis=1)\n"
   ]
  },
  {
   "cell_type": "code",
   "execution_count": 9,
   "id": "e3973f25",
   "metadata": {},
   "outputs": [
    {
     "data": {
      "image/png": "[encoded data removed]",
      "text/plain": [
       "<Figure size 640x480 with 1 Axes>"
      ]
     },
     "metadata": {},
     "output_type": "display_data"
    }
   ],
   "source": [
    "sns.barplot(results_df['risk_score_label'].value_counts())\n",
    "plt.show()"
   ]
  },
  {
   "cell_type": "code",
   "execution_count": 10,
   "id": "e9520fa1",
   "metadata": {},
   "outputs": [
    {
     "name": "stdout",
     "output_type": "stream",
     "text": [
      "risk_score_label\n",
      "high      69\n",
      "medium    33\n",
      "low        1\n",
      "Name: count, dtype: int64\n"
     ]
    },
    {
     "data": {
      "text/plain": [
       "0      2\n",
       "1      2\n",
       "2      2\n",
       "3      1\n",
       "4      2\n",
       "      ..\n",
       "98     2\n",
       "99     2\n",
       "100    2\n",
       "101    1\n",
       "102    2\n",
       "Name: risk_score_label, Length: 103, dtype: int64"
      ]
     },
     "execution_count": 10,
     "metadata": {},
     "output_type": "execute_result"
    }
   ],
   "source": [
    "print(results_df['risk_score_label'].value_counts())\n",
    "results_df['risk_score_label'].map({\"low\":0,\"medium\":1,\"high\":2}) # For our ML Model to train we need numeric data type"
   ]
  },
  {
   "cell_type": "code",
   "execution_count": 11,
   "id": "a7e0b152",
   "metadata": {},
   "outputs": [
    {
     "data": {
      "text/plain": [
       "Index(['total_tx', 'gas_spent', 'avg_value', 'max_value', 'activity_days',\n",
       "       'wallet', 'risk_score', 'risk_score_features', 'risk_score_label'],\n",
       "      dtype='object')"
      ]
     },
     "execution_count": 11,
     "metadata": {},
     "output_type": "execute_result"
    }
   ],
   "source": [
    "results_df.columns"
   ]
  },
  {
   "cell_type": "markdown",
   "id": "8b0eb210",
   "metadata": {},
   "source": [
    "# Training Random Forest Regressor "
   ]
  },
  {
   "cell_type": "code",
   "execution_count": 12,
   "id": "e1a59a6e",
   "metadata": {},
   "outputs": [
    {
     "name": "stdout",
     "output_type": "stream",
     "text": [
      "Training R²: 0.9888415313225059\n",
      "Test R²: 0.99929125\n"
     ]
    }
   ],
   "source": [
    "from sklearn.ensemble import RandomForestRegressor\n",
    "from sklearn.model_selection import train_test_split\n",
    "from sklearn.preprocessing import MinMaxScaler\n",
    "\n",
    "\n",
    "X = results_df.drop(columns=[\"wallet\", \"risk_score_label\"])\n",
    "y = results_df['risk_score_label'].map({\"low\":0,\"medium\":1,\"high\":2})\n",
    "\n",
    "scaler = MinMaxScaler()\n",
    "X_scaled = scaler.fit_transform(X)\n",
    "\n",
    "\n",
    "X_train, X_test, y_train, y_test = train_test_split(X_scaled, y, test_size=0.2, random_state=42)\n",
    "\n",
    "\n",
    "model = RandomForestRegressor(n_estimators=100, random_state=42)\n",
    "model.fit(X_train, y_train)\n",
    "\n",
    "\n",
    "print(\"Training R²:\", model.score(X_train, y_train))\n",
    "print(\"Test R²:\", model.score(X_test, y_test))\n"
   ]
  },
  {
   "cell_type": "code",
   "execution_count": 13,
   "id": "11caca6f",
   "metadata": {},
   "outputs": [
    {
     "name": "stdout",
     "output_type": "stream",
     "text": [
      "0    2.00\n",
      "1    2.00\n",
      "2    2.00\n",
      "3    0.99\n",
      "4    2.00\n",
      "Name: predicted_risk_score, dtype: float64\n",
      "predicted_risk_score\n",
      "1000.0    95\n",
      "990.0      4\n",
      "960.0      2\n",
      "430.0      1\n",
      "980.0      1\n",
      "Name: count, dtype: int64\n"
     ]
    }
   ],
   "source": [
    "results_df[\"predicted_risk_score\"] = model.predict(X_scaled)\n",
    "print(results_df['predicted_risk_score'].head())\n",
    "\n",
    "results_df[\"predicted_risk_score\"] = (results_df[\"predicted_risk_score\"]*1000).clip(0, 1000).round(2)\n",
    "print(results_df['predicted_risk_score'].value_counts())\n",
    "\n",
    "file_path = os.path.join(folder_path, \"final_ml_scores.csv\")\n",
    "results_df[[\"wallet\", \"predicted_risk_score\"]].to_csv(file_path, index=False)\n"
   ]
  }
 ],
 "metadata": {
  "kernelspec": {
   "display_name": "venv",
   "language": "python",
   "name": "python3"
  },
  "language_info": {
   "codemirror_mode": {
    "name": "ipython",
    "version": 3
   },
   "file_extension": ".py",
   "mimetype": "text/x-python",
   "name": "python",
   "nbconvert_exporter": "python",
   "pygments_lexer": "ipython3",
   "version": "3.13.5"
  }
 },
 "nbformat": 4,
 "nbformat_minor": 5
}
